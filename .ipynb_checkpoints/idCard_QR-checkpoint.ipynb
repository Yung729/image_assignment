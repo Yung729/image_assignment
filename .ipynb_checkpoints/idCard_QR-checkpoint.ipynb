{
 "cells": [
  {
   "cell_type": "code",
   "execution_count": null,
   "id": "11beeadb-c851-41d9-b2ad-2146d8c834ae",
   "metadata": {},
   "outputs": [],
   "source": [
    "from deepface import DeepFace\n",
    "print(\"✅ DeepFace loaded\")"
   ]
  },
  {
   "cell_type": "code",
   "execution_count": 2,
   "id": "3fe8de7c-6d8e-4700-9cc9-e51b5228c85a",
   "metadata": {},
   "outputs": [],
   "source": [
    "# Sample student list\n",
    "students = [\n",
    "    {\"id\": \"S001\", \"name\": \"Kah Yung\", \"program\": \"Bachelor of CS\"}\n",
    "]\n"
   ]
  },
  {
   "cell_type": "code",
   "execution_count": 4,
   "id": "eabc660f-2c37-4687-a631-a4ba96c558b6",
   "metadata": {},
   "outputs": [
    {
     "name": "stdout",
     "output_type": "stream",
     "text": [
      "✅ Smart ID cards generated in /id_cards\n"
     ]
    }
   ],
   "source": [
    "from PIL import Image, ImageDraw, ImageFont\n",
    "import qrcode\n",
    "import os\n",
    "from PIL import ImageFont\n",
    "\n",
    "try:\n",
    "    FONT_PATH = \"C:/Windows/Fonts/arial.ttf\"\n",
    "    font = ImageFont.truetype(FONT_PATH, 20)\n",
    "except OSError:\n",
    "    print(\"⚠️ Could not load custom font. Using default font instead.\")\n",
    "    font = ImageFont.load_default()\n",
    "    \n",
    "PHOTO_DIR = \"card_photo\"        # optional, store student images here (e.g., S001.jpg)\n",
    "OUTPUT_DIR = \"id_cards\"\n",
    "os.makedirs(OUTPUT_DIR, exist_ok=True)\n",
    "\n",
    "# Generate ID cards\n",
    "for student in students:\n",
    "    # QR Data Format\n",
    "    qr_data = f\"{student['id']}|{student['name']}|{student['program']}\"\n",
    "    qr = qrcode.make(qr_data)\n",
    "    qr = qr.resize((120, 120))\n",
    "\n",
    "    # Create a blank white card\n",
    "    card = Image.new(\"RGB\", (400, 250), \"white\")\n",
    "    draw = ImageDraw.Draw(card)\n",
    "\n",
    "    # Add text\n",
    "    font = ImageFont.truetype(FONT_PATH, 20)\n",
    "    draw.text((20, 20), f\"ID: {student['id']}\", fill=\"black\", font=font)\n",
    "    draw.text((20, 60), f\"Name: {student['name']}\", fill=\"black\", font=font)\n",
    "    draw.text((20, 100), f\"Program: {student['program']}\", fill=\"black\", font=font)\n",
    "\n",
    "    # Add optional photo if available\n",
    "    photo_path = os.path.join(PHOTO_DIR, f\"{student['id']}.jpg\")\n",
    "    if os.path.exists(photo_path):\n",
    "        photo = Image.open(photo_path).resize((80, 100))\n",
    "        card.paste(photo, (280, 20))\n",
    "\n",
    "    # Paste QR code\n",
    "    card.paste(qr, (20, 140))\n",
    "\n",
    "    # Save\n",
    "    card.save(f\"{OUTPUT_DIR}/{student['id']}_id_card.png\")\n",
    "\n",
    "print(\"✅ Smart ID cards generated in /id_cards\")\n"
   ]
  },
  {
   "cell_type": "code",
   "execution_count": null,
   "id": "4529a88b-87a4-47bd-924f-51071ad8f1f8",
   "metadata": {},
   "outputs": [],
   "source": []
  },
  {
   "cell_type": "code",
   "execution_count": null,
   "id": "68257e4b-9662-4eb3-bbe0-4ba4fdd2a7a2",
   "metadata": {},
   "outputs": [],
   "source": []
  }
 ],
 "metadata": {
  "kernelspec": {
   "display_name": "Python [conda env:base] *",
   "language": "python",
   "name": "conda-base-py"
  },
  "language_info": {
   "codemirror_mode": {
    "name": "ipython",
    "version": 3
   },
   "file_extension": ".py",
   "mimetype": "text/x-python",
   "name": "python",
   "nbconvert_exporter": "python",
   "pygments_lexer": "ipython3",
   "version": "3.12.7"
  }
 },
 "nbformat": 4,
 "nbformat_minor": 5
}
